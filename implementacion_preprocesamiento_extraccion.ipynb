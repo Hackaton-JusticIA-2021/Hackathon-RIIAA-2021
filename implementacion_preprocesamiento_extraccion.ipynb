{
 "cells": [
  {
   "cell_type": "markdown",
   "source": [
    "## Instalación de bibliotecas y paquetes necesarios"
   ],
   "metadata": {}
  },
  {
   "cell_type": "code",
   "execution_count": null,
   "source": [
    "!pip uninstall tensorflow -y\n",
    "!pip install  tensorflow==2.3.1\n",
    "!pip uninstall Keras -y\n",
    "!pip install Keras==2.2.4\n",
    "!pip uninstall scikit-learn -y\n",
    "!pip install scikit-learn==0.19.2\n",
    "!pip uninstall scikit-image -y\n",
    "!pip install scikit-image==0.18.2\n",
    "\n",
    "!pip install kraken\n",
    "\n",
    "#paquetes necesarios en linux\n",
    "! apt-get install poppler-utils\n",
    "! apt install tesseract-ocr\n",
    "! apt install libtesseract-dev\n",
    "\n",
    "\n",
    "#bibliotecas para python\n",
    "! pip install pdf2image \n",
    "! pip install pytesseract\n",
    "! pip install Pillow\n",
    "! pip install pytesseract"
   ],
   "outputs": [],
   "metadata": {}
  },
  {
   "cell_type": "code",
   "execution_count": null,
   "source": [],
   "outputs": [],
   "metadata": {}
  }
 ],
 "metadata": {
  "orig_nbformat": 4,
  "language_info": {
   "name": "python",
   "version": "3.8.2",
   "mimetype": "text/x-python",
   "codemirror_mode": {
    "name": "ipython",
    "version": 3
   },
   "pygments_lexer": "ipython3",
   "nbconvert_exporter": "python",
   "file_extension": ".py"
  },
  "kernelspec": {
   "name": "python3",
   "display_name": "Python 3.8.2 64-bit ('base': conda)"
  },
  "interpreter": {
   "hash": "2909e0a5e3f3696bfc004552b508948240c89b838faefd1fa0b49f2f8809152a"
  }
 },
 "nbformat": 4,
 "nbformat_minor": 2
}