{
  "nbformat": 4,
  "nbformat_minor": 0,
  "metadata": {
    "colab": {
      "name": "implementacion_preprocesamiento_extraccion.ipynb",
      "provenance": [],
      "collapsed_sections": [],
      "include_colab_link": true
    },
    "kernelspec": {
      "display_name": "Python 3",
      "name": "python3"
    },
    "language_info": {
      "name": "python"
    }
  },
  "cells": [
    {
      "cell_type": "markdown",
      "metadata": {
        "id": "view-in-github",
        "colab_type": "text"
      },
      "source": [
        "<a href=\"https://colab.research.google.com/github/andrea-liliana/Hackathon-RIIAA-2021/blob/main/implementacion_preprocesamiento_extraccion.ipynb\" target=\"_parent\"><img src=\"https://colab.research.google.com/assets/colab-badge.svg\" alt=\"Open In Colab\"/></a>"
      ]
    },
    {
      "cell_type": "code",
      "metadata": {
        "colab": {
          "base_uri": "https://localhost:8080/",
          "height": 1000
        },
        "id": "R9c-2vWSM3BB",
        "outputId": "e84da7bc-5f6d-4533-f73e-37a1c8945a67"
      },
      "source": [
        "!pip uninstall tensorflow -y\n",
        "!pip install  tensorflow==2.3.1\n",
        "!pip uninstall Keras -y\n",
        "!pip install Keras==2.2.4\n",
        "!pip uninstall scikit-learn -y\n",
        "!pip install scikit-learn==0.19.2\n",
        "!pip uninstall scikit-image -y\n",
        "!pip install scikit-image==0.18.2\n",
        "\n",
        "!pip install kraken\n",
        "\n",
        "#paquetes necesarios en linux\n",
        "! apt-get install poppler-utils\n",
        "! apt install tesseract-ocr\n",
        "! apt install libtesseract-dev\n",
        "\n",
        "\n",
        "#bibliotecas para python\n",
        "! pip install pdf2image \n",
        "! pip install pytesseract\n",
        "! pip install Pillow\n",
        "! pip install pytesseract\n",
        "! pip install opencv-python"
      ],
      "execution_count": 2,
      "outputs": [
        {
          "output_type": "stream",
          "text": [
            "Found existing installation: tensorflow 2.6.0\n",
            "Uninstalling tensorflow-2.6.0:\n",
            "  Successfully uninstalled tensorflow-2.6.0\n",
            "Collecting tensorflow==2.3.1\n",
            "  Downloading tensorflow-2.3.1-cp37-cp37m-manylinux2010_x86_64.whl (320.4 MB)\n",
            "\u001b[K     |████████████████████████████████| 320.4 MB 27 kB/s \n",
            "\u001b[?25hRequirement already satisfied: wheel>=0.26 in /usr/local/lib/python3.7/dist-packages (from tensorflow==2.3.1) (0.37.0)\n",
            "Requirement already satisfied: absl-py>=0.7.0 in /usr/local/lib/python3.7/dist-packages (from tensorflow==2.3.1) (0.12.0)\n",
            "Collecting h5py<2.11.0,>=2.10.0\n",
            "  Downloading h5py-2.10.0-cp37-cp37m-manylinux1_x86_64.whl (2.9 MB)\n",
            "\u001b[K     |████████████████████████████████| 2.9 MB 47.7 MB/s \n",
            "\u001b[?25hRequirement already satisfied: wrapt>=1.11.1 in /usr/local/lib/python3.7/dist-packages (from tensorflow==2.3.1) (1.12.1)\n",
            "Requirement already satisfied: six>=1.12.0 in /usr/local/lib/python3.7/dist-packages (from tensorflow==2.3.1) (1.15.0)\n",
            "Requirement already satisfied: termcolor>=1.1.0 in /usr/local/lib/python3.7/dist-packages (from tensorflow==2.3.1) (1.1.0)\n",
            "Requirement already satisfied: google-pasta>=0.1.8 in /usr/local/lib/python3.7/dist-packages (from tensorflow==2.3.1) (0.2.0)\n",
            "Collecting gast==0.3.3\n",
            "  Downloading gast-0.3.3-py2.py3-none-any.whl (9.7 kB)\n",
            "Requirement already satisfied: astunparse==1.6.3 in /usr/local/lib/python3.7/dist-packages (from tensorflow==2.3.1) (1.6.3)\n",
            "Requirement already satisfied: keras-preprocessing<1.2,>=1.1.1 in /usr/local/lib/python3.7/dist-packages (from tensorflow==2.3.1) (1.1.2)\n",
            "Requirement already satisfied: opt-einsum>=2.3.2 in /usr/local/lib/python3.7/dist-packages (from tensorflow==2.3.1) (3.3.0)\n",
            "Requirement already satisfied: protobuf>=3.9.2 in /usr/local/lib/python3.7/dist-packages (from tensorflow==2.3.1) (3.17.3)\n",
            "Collecting numpy<1.19.0,>=1.16.0\n",
            "  Downloading numpy-1.18.5-cp37-cp37m-manylinux1_x86_64.whl (20.1 MB)\n",
            "\u001b[K     |████████████████████████████████| 20.1 MB 1.4 MB/s \n",
            "\u001b[?25hRequirement already satisfied: tensorboard<3,>=2.3.0 in /usr/local/lib/python3.7/dist-packages (from tensorflow==2.3.1) (2.6.0)\n",
            "Requirement already satisfied: grpcio>=1.8.6 in /usr/local/lib/python3.7/dist-packages (from tensorflow==2.3.1) (1.39.0)\n",
            "Collecting tensorflow-estimator<2.4.0,>=2.3.0\n",
            "  Downloading tensorflow_estimator-2.3.0-py2.py3-none-any.whl (459 kB)\n",
            "\u001b[K     |████████████████████████████████| 459 kB 45.3 MB/s \n",
            "\u001b[?25hRequirement already satisfied: google-auth-oauthlib<0.5,>=0.4.1 in /usr/local/lib/python3.7/dist-packages (from tensorboard<3,>=2.3.0->tensorflow==2.3.1) (0.4.5)\n",
            "Requirement already satisfied: tensorboard-data-server<0.7.0,>=0.6.0 in /usr/local/lib/python3.7/dist-packages (from tensorboard<3,>=2.3.0->tensorflow==2.3.1) (0.6.1)\n",
            "Requirement already satisfied: google-auth<2,>=1.6.3 in /usr/local/lib/python3.7/dist-packages (from tensorboard<3,>=2.3.0->tensorflow==2.3.1) (1.34.0)\n",
            "Requirement already satisfied: requests<3,>=2.21.0 in /usr/local/lib/python3.7/dist-packages (from tensorboard<3,>=2.3.0->tensorflow==2.3.1) (2.23.0)\n",
            "Requirement already satisfied: tensorboard-plugin-wit>=1.6.0 in /usr/local/lib/python3.7/dist-packages (from tensorboard<3,>=2.3.0->tensorflow==2.3.1) (1.8.0)\n",
            "Requirement already satisfied: markdown>=2.6.8 in /usr/local/lib/python3.7/dist-packages (from tensorboard<3,>=2.3.0->tensorflow==2.3.1) (3.3.4)\n",
            "Requirement already satisfied: werkzeug>=0.11.15 in /usr/local/lib/python3.7/dist-packages (from tensorboard<3,>=2.3.0->tensorflow==2.3.1) (1.0.1)\n",
            "Requirement already satisfied: setuptools>=41.0.0 in /usr/local/lib/python3.7/dist-packages (from tensorboard<3,>=2.3.0->tensorflow==2.3.1) (57.4.0)\n",
            "Requirement already satisfied: pyasn1-modules>=0.2.1 in /usr/local/lib/python3.7/dist-packages (from google-auth<2,>=1.6.3->tensorboard<3,>=2.3.0->tensorflow==2.3.1) (0.2.8)\n",
            "Requirement already satisfied: cachetools<5.0,>=2.0.0 in /usr/local/lib/python3.7/dist-packages (from google-auth<2,>=1.6.3->tensorboard<3,>=2.3.0->tensorflow==2.3.1) (4.2.2)\n",
            "Requirement already satisfied: rsa<5,>=3.1.4 in /usr/local/lib/python3.7/dist-packages (from google-auth<2,>=1.6.3->tensorboard<3,>=2.3.0->tensorflow==2.3.1) (4.7.2)\n",
            "Requirement already satisfied: requests-oauthlib>=0.7.0 in /usr/local/lib/python3.7/dist-packages (from google-auth-oauthlib<0.5,>=0.4.1->tensorboard<3,>=2.3.0->tensorflow==2.3.1) (1.3.0)\n",
            "Requirement already satisfied: importlib-metadata in /usr/local/lib/python3.7/dist-packages (from markdown>=2.6.8->tensorboard<3,>=2.3.0->tensorflow==2.3.1) (4.6.4)\n",
            "Requirement already satisfied: pyasn1<0.5.0,>=0.4.6 in /usr/local/lib/python3.7/dist-packages (from pyasn1-modules>=0.2.1->google-auth<2,>=1.6.3->tensorboard<3,>=2.3.0->tensorflow==2.3.1) (0.4.8)\n",
            "Requirement already satisfied: certifi>=2017.4.17 in /usr/local/lib/python3.7/dist-packages (from requests<3,>=2.21.0->tensorboard<3,>=2.3.0->tensorflow==2.3.1) (2021.5.30)\n",
            "Requirement already satisfied: chardet<4,>=3.0.2 in /usr/local/lib/python3.7/dist-packages (from requests<3,>=2.21.0->tensorboard<3,>=2.3.0->tensorflow==2.3.1) (3.0.4)\n",
            "Requirement already satisfied: urllib3!=1.25.0,!=1.25.1,<1.26,>=1.21.1 in /usr/local/lib/python3.7/dist-packages (from requests<3,>=2.21.0->tensorboard<3,>=2.3.0->tensorflow==2.3.1) (1.24.3)\n",
            "Requirement already satisfied: idna<3,>=2.5 in /usr/local/lib/python3.7/dist-packages (from requests<3,>=2.21.0->tensorboard<3,>=2.3.0->tensorflow==2.3.1) (2.10)\n",
            "Requirement already satisfied: oauthlib>=3.0.0 in /usr/local/lib/python3.7/dist-packages (from requests-oauthlib>=0.7.0->google-auth-oauthlib<0.5,>=0.4.1->tensorboard<3,>=2.3.0->tensorflow==2.3.1) (3.1.1)\n",
            "Requirement already satisfied: typing-extensions>=3.6.4 in /usr/local/lib/python3.7/dist-packages (from importlib-metadata->markdown>=2.6.8->tensorboard<3,>=2.3.0->tensorflow==2.3.1) (3.7.4.3)\n",
            "Requirement already satisfied: zipp>=0.5 in /usr/local/lib/python3.7/dist-packages (from importlib-metadata->markdown>=2.6.8->tensorboard<3,>=2.3.0->tensorflow==2.3.1) (3.5.0)\n",
            "Installing collected packages: numpy, tensorflow-estimator, h5py, gast, tensorflow\n",
            "  Attempting uninstall: numpy\n",
            "    Found existing installation: numpy 1.19.5\n",
            "    Uninstalling numpy-1.19.5:\n",
            "      Successfully uninstalled numpy-1.19.5\n",
            "  Attempting uninstall: tensorflow-estimator\n",
            "    Found existing installation: tensorflow-estimator 2.6.0\n",
            "    Uninstalling tensorflow-estimator-2.6.0:\n",
            "      Successfully uninstalled tensorflow-estimator-2.6.0\n",
            "  Attempting uninstall: h5py\n",
            "    Found existing installation: h5py 3.1.0\n",
            "    Uninstalling h5py-3.1.0:\n",
            "      Successfully uninstalled h5py-3.1.0\n",
            "  Attempting uninstall: gast\n",
            "    Found existing installation: gast 0.4.0\n",
            "    Uninstalling gast-0.4.0:\n",
            "      Successfully uninstalled gast-0.4.0\n",
            "\u001b[31mERROR: pip's dependency resolver does not currently take into account all the packages that are installed. This behaviour is the source of the following dependency conflicts.\n",
            "datascience 0.10.6 requires folium==0.2.1, but you have folium 0.8.3 which is incompatible.\n",
            "albumentations 0.1.12 requires imgaug<0.2.7,>=0.2.5, but you have imgaug 0.2.9 which is incompatible.\u001b[0m\n",
            "Successfully installed gast-0.3.3 h5py-2.10.0 numpy-1.18.5 tensorflow-2.3.1 tensorflow-estimator-2.3.0\n"
          ],
          "name": "stdout"
        },
        {
          "output_type": "display_data",
          "data": {
            "application/vnd.colab-display-data+json": {
              "pip_warning": {
                "packages": [
                  "numpy"
                ]
              }
            }
          },
          "metadata": {}
        },
        {
          "output_type": "stream",
          "text": [
            "Found existing installation: keras 2.6.0\n",
            "Uninstalling keras-2.6.0:\n",
            "  Successfully uninstalled keras-2.6.0\n",
            "Collecting Keras==2.2.4\n",
            "  Downloading Keras-2.2.4-py2.py3-none-any.whl (312 kB)\n",
            "\u001b[K     |████████████████████████████████| 312 kB 7.3 MB/s \n",
            "\u001b[?25hCollecting keras-applications>=1.0.6\n",
            "  Downloading Keras_Applications-1.0.8-py3-none-any.whl (50 kB)\n",
            "\u001b[K     |████████████████████████████████| 50 kB 6.5 MB/s \n",
            "\u001b[?25hRequirement already satisfied: numpy>=1.9.1 in /usr/local/lib/python3.7/dist-packages (from Keras==2.2.4) (1.18.5)\n",
            "Requirement already satisfied: pyyaml in /usr/local/lib/python3.7/dist-packages (from Keras==2.2.4) (3.13)\n",
            "Requirement already satisfied: scipy>=0.14 in /usr/local/lib/python3.7/dist-packages (from Keras==2.2.4) (1.4.1)\n",
            "Requirement already satisfied: six>=1.9.0 in /usr/local/lib/python3.7/dist-packages (from Keras==2.2.4) (1.15.0)\n",
            "Requirement already satisfied: h5py in /usr/local/lib/python3.7/dist-packages (from Keras==2.2.4) (2.10.0)\n",
            "Requirement already satisfied: keras-preprocessing>=1.0.5 in /usr/local/lib/python3.7/dist-packages (from Keras==2.2.4) (1.1.2)\n",
            "Installing collected packages: keras-applications, Keras\n",
            "Successfully installed Keras-2.2.4 keras-applications-1.0.8\n",
            "Found existing installation: scikit-learn 0.22.2.post1\n",
            "Uninstalling scikit-learn-0.22.2.post1:\n",
            "  Successfully uninstalled scikit-learn-0.22.2.post1\n",
            "Collecting scikit-learn==0.19.2\n",
            "  Downloading scikit_learn-0.19.2-cp37-cp37m-manylinux1_x86_64.whl (4.9 MB)\n",
            "\u001b[K     |████████████████████████████████| 4.9 MB 7.4 MB/s \n",
            "\u001b[?25hInstalling collected packages: scikit-learn\n",
            "\u001b[31mERROR: pip's dependency resolver does not currently take into account all the packages that are installed. This behaviour is the source of the following dependency conflicts.\n",
            "yellowbrick 0.9.1 requires scikit-learn>=0.20, but you have scikit-learn 0.19.2 which is incompatible.\n",
            "imbalanced-learn 0.4.3 requires scikit-learn>=0.20, but you have scikit-learn 0.19.2 which is incompatible.\u001b[0m\n",
            "Successfully installed scikit-learn-0.19.2\n",
            "Found existing installation: scikit-image 0.16.2\n",
            "Uninstalling scikit-image-0.16.2:\n",
            "  Successfully uninstalled scikit-image-0.16.2\n",
            "Collecting scikit-image==0.18.2\n",
            "  Downloading scikit_image-0.18.2-cp37-cp37m-manylinux1_x86_64.whl (29.2 MB)\n",
            "\u001b[K     |████████████████████████████████| 29.2 MB 49 kB/s \n",
            "\u001b[?25hRequirement already satisfied: scipy>=1.0.1 in /usr/local/lib/python3.7/dist-packages (from scikit-image==0.18.2) (1.4.1)\n",
            "Requirement already satisfied: networkx>=2.0 in /usr/local/lib/python3.7/dist-packages (from scikit-image==0.18.2) (2.6.2)\n",
            "Requirement already satisfied: tifffile>=2019.7.26 in /usr/local/lib/python3.7/dist-packages (from scikit-image==0.18.2) (2021.8.8)\n",
            "Requirement already satisfied: pillow!=7.1.0,!=7.1.1,>=4.3.0 in /usr/local/lib/python3.7/dist-packages (from scikit-image==0.18.2) (7.1.2)\n",
            "Requirement already satisfied: numpy>=1.16.5 in /usr/local/lib/python3.7/dist-packages (from scikit-image==0.18.2) (1.18.5)\n",
            "Requirement already satisfied: PyWavelets>=1.1.1 in /usr/local/lib/python3.7/dist-packages (from scikit-image==0.18.2) (1.1.1)\n",
            "Requirement already satisfied: matplotlib!=3.0.0,>=2.0.0 in /usr/local/lib/python3.7/dist-packages (from scikit-image==0.18.2) (3.2.2)\n",
            "Requirement already satisfied: imageio>=2.3.0 in /usr/local/lib/python3.7/dist-packages (from scikit-image==0.18.2) (2.4.1)\n",
            "Requirement already satisfied: pyparsing!=2.0.4,!=2.1.2,!=2.1.6,>=2.0.1 in /usr/local/lib/python3.7/dist-packages (from matplotlib!=3.0.0,>=2.0.0->scikit-image==0.18.2) (2.4.7)\n",
            "Requirement already satisfied: cycler>=0.10 in /usr/local/lib/python3.7/dist-packages (from matplotlib!=3.0.0,>=2.0.0->scikit-image==0.18.2) (0.10.0)\n",
            "Requirement already satisfied: python-dateutil>=2.1 in /usr/local/lib/python3.7/dist-packages (from matplotlib!=3.0.0,>=2.0.0->scikit-image==0.18.2) (2.8.2)\n",
            "Requirement already satisfied: kiwisolver>=1.0.1 in /usr/local/lib/python3.7/dist-packages (from matplotlib!=3.0.0,>=2.0.0->scikit-image==0.18.2) (1.3.1)\n",
            "Requirement already satisfied: six in /usr/local/lib/python3.7/dist-packages (from cycler>=0.10->matplotlib!=3.0.0,>=2.0.0->scikit-image==0.18.2) (1.15.0)\n",
            "Installing collected packages: scikit-image\n",
            "\u001b[31mERROR: pip's dependency resolver does not currently take into account all the packages that are installed. This behaviour is the source of the following dependency conflicts.\n",
            "albumentations 0.1.12 requires imgaug<0.2.7,>=0.2.5, but you have imgaug 0.2.9 which is incompatible.\u001b[0m\n",
            "Successfully installed scikit-image-0.18.2\n",
            "Collecting kraken\n",
            "  Downloading kraken-3.0.4-py3-none-any.whl (5.4 MB)\n",
            "\u001b[K     |████████████████████████████████| 5.4 MB 8.6 MB/s \n",
            "\u001b[?25hRequirement already satisfied: future in /usr/local/lib/python3.7/dist-packages (from kraken) (0.16.0)\n",
            "Requirement already satisfied: scipy in /usr/local/lib/python3.7/dist-packages (from kraken) (1.4.1)\n",
            "Requirement already satisfied: regex in /usr/local/lib/python3.7/dist-packages (from kraken) (2019.12.20)\n",
            "Collecting scikit-image<=0.17.2\n",
            "  Downloading scikit_image-0.17.2-cp37-cp37m-manylinux1_x86_64.whl (12.5 MB)\n",
            "\u001b[K     |████████████████████████████████| 12.5 MB 16 kB/s \n",
            "\u001b[?25hRequirement already satisfied: click>=7.0 in /usr/local/lib/python3.7/dist-packages (from kraken) (7.1.2)\n",
            "Requirement already satisfied: protobuf>=3.0.0 in /usr/local/lib/python3.7/dist-packages (from kraken) (3.17.3)\n",
            "Requirement already satisfied: Pillow>=6.2.2 in /usr/local/lib/python3.7/dist-packages (from kraken) (7.1.2)\n",
            "Collecting python-bidi\n",
            "  Downloading python_bidi-0.4.2-py2.py3-none-any.whl (30 kB)\n",
            "Collecting torch<=1.7.0,>=1.5.0\n",
            "  Downloading torch-1.7.0-cp37-cp37m-manylinux1_x86_64.whl (776.7 MB)\n",
            "\u001b[K     |████████████████████████████████| 776.7 MB 2.3 kB/s \n",
            "\u001b[?25hRequirement already satisfied: lxml in /usr/local/lib/python3.7/dist-packages (from kraken) (4.2.6)\n",
            "Requirement already satisfied: torchvision>=0.5.0 in /usr/local/lib/python3.7/dist-packages (from kraken) (0.10.0+cu102)\n",
            "Requirement already satisfied: shapely in /usr/local/lib/python3.7/dist-packages (from kraken) (1.7.1)\n",
            "Collecting coremltools>=3.3\n",
            "  Downloading coremltools-4.1-cp37-none-manylinux1_x86_64.whl (3.4 MB)\n",
            "\u001b[K     |████████████████████████████████| 3.4 MB 50.0 MB/s \n",
            "\u001b[?25hRequirement already satisfied: numpy in /usr/local/lib/python3.7/dist-packages (from kraken) (1.18.5)\n",
            "Requirement already satisfied: jinja2 in /usr/local/lib/python3.7/dist-packages (from kraken) (2.11.3)\n",
            "Requirement already satisfied: jsonschema in /usr/local/lib/python3.7/dist-packages (from kraken) (2.6.0)\n",
            "Collecting pyvips\n",
            "  Downloading pyvips-2.1.15.tar.gz (622 kB)\n",
            "\u001b[K     |████████████████████████████████| 622 kB 52.3 MB/s \n",
            "\u001b[?25hRequirement already satisfied: requests in /usr/local/lib/python3.7/dist-packages (from kraken) (2.23.0)\n",
            "Collecting attr\n",
            "  Downloading attr-0.3.1.tar.gz (1.7 kB)\n",
            "Requirement already satisfied: sympy in /usr/local/lib/python3.7/dist-packages (from coremltools>=3.3->kraken) (1.7.1)\n",
            "Requirement already satisfied: tqdm in /usr/local/lib/python3.7/dist-packages (from coremltools>=3.3->kraken) (4.62.0)\n",
            "Requirement already satisfied: packaging in /usr/local/lib/python3.7/dist-packages (from coremltools>=3.3->kraken) (21.0)\n",
            "Requirement already satisfied: attrs in /usr/local/lib/python3.7/dist-packages (from coremltools>=3.3->kraken) (21.2.0)\n",
            "Requirement already satisfied: six>=1.10.0 in /usr/local/lib/python3.7/dist-packages (from coremltools>=3.3->kraken) (1.15.0)\n",
            "Requirement already satisfied: imageio>=2.3.0 in /usr/local/lib/python3.7/dist-packages (from scikit-image<=0.17.2->kraken) (2.4.1)\n",
            "Requirement already satisfied: networkx>=2.0 in /usr/local/lib/python3.7/dist-packages (from scikit-image<=0.17.2->kraken) (2.6.2)\n",
            "Requirement already satisfied: PyWavelets>=1.1.1 in /usr/local/lib/python3.7/dist-packages (from scikit-image<=0.17.2->kraken) (1.1.1)\n",
            "Requirement already satisfied: matplotlib!=3.0.0,>=2.0.0 in /usr/local/lib/python3.7/dist-packages (from scikit-image<=0.17.2->kraken) (3.2.2)\n",
            "Requirement already satisfied: tifffile>=2019.7.26 in /usr/local/lib/python3.7/dist-packages (from scikit-image<=0.17.2->kraken) (2021.8.8)\n",
            "Requirement already satisfied: kiwisolver>=1.0.1 in /usr/local/lib/python3.7/dist-packages (from matplotlib!=3.0.0,>=2.0.0->scikit-image<=0.17.2->kraken) (1.3.1)\n",
            "Requirement already satisfied: python-dateutil>=2.1 in /usr/local/lib/python3.7/dist-packages (from matplotlib!=3.0.0,>=2.0.0->scikit-image<=0.17.2->kraken) (2.8.2)\n",
            "Requirement already satisfied: pyparsing!=2.0.4,!=2.1.2,!=2.1.6,>=2.0.1 in /usr/local/lib/python3.7/dist-packages (from matplotlib!=3.0.0,>=2.0.0->scikit-image<=0.17.2->kraken) (2.4.7)\n",
            "Requirement already satisfied: cycler>=0.10 in /usr/local/lib/python3.7/dist-packages (from matplotlib!=3.0.0,>=2.0.0->scikit-image<=0.17.2->kraken) (0.10.0)\n",
            "Collecting dataclasses\n",
            "  Downloading dataclasses-0.6-py3-none-any.whl (14 kB)\n",
            "Requirement already satisfied: typing-extensions in /usr/local/lib/python3.7/dist-packages (from torch<=1.7.0,>=1.5.0->kraken) (3.7.4.3)\n",
            "Collecting torchvision>=0.5.0\n",
            "  Downloading torchvision-0.10.0-cp37-cp37m-manylinux1_x86_64.whl (22.1 MB)\n",
            "\u001b[K     |████████████████████████████████| 22.1 MB 1.3 MB/s \n",
            "\u001b[?25h  Downloading torchvision-0.9.1-cp37-cp37m-manylinux1_x86_64.whl (17.4 MB)\n",
            "\u001b[K     |████████████████████████████████| 17.4 MB 119 kB/s \n",
            "\u001b[?25h  Downloading torchvision-0.9.0-cp37-cp37m-manylinux1_x86_64.whl (17.3 MB)\n",
            "\u001b[K     |████████████████████████████████| 17.3 MB 23 kB/s \n",
            "\u001b[?25h  Downloading torchvision-0.8.2-cp37-cp37m-manylinux1_x86_64.whl (12.8 MB)\n",
            "\u001b[K     |████████████████████████████████| 12.8 MB 13 kB/s \n",
            "\u001b[?25h  Downloading torchvision-0.8.1-cp37-cp37m-manylinux1_x86_64.whl (12.7 MB)\n",
            "\u001b[K     |████████████████████████████████| 12.7 MB 86 kB/s \n",
            "\u001b[?25hRequirement already satisfied: MarkupSafe>=0.23 in /usr/local/lib/python3.7/dist-packages (from jinja2->kraken) (2.0.1)\n",
            "Requirement already satisfied: cffi>=1.0.0 in /usr/local/lib/python3.7/dist-packages (from pyvips->kraken) (1.14.6)\n",
            "Requirement already satisfied: pycparser in /usr/local/lib/python3.7/dist-packages (from cffi>=1.0.0->pyvips->kraken) (2.20)\n",
            "Requirement already satisfied: certifi>=2017.4.17 in /usr/local/lib/python3.7/dist-packages (from requests->kraken) (2021.5.30)\n",
            "Requirement already satisfied: idna<3,>=2.5 in /usr/local/lib/python3.7/dist-packages (from requests->kraken) (2.10)\n",
            "Requirement already satisfied: chardet<4,>=3.0.2 in /usr/local/lib/python3.7/dist-packages (from requests->kraken) (3.0.4)\n",
            "Requirement already satisfied: urllib3!=1.25.0,!=1.25.1,<1.26,>=1.21.1 in /usr/local/lib/python3.7/dist-packages (from requests->kraken) (1.24.3)\n",
            "Requirement already satisfied: mpmath>=0.19 in /usr/local/lib/python3.7/dist-packages (from sympy->coremltools>=3.3->kraken) (1.2.1)\n",
            "Building wheels for collected packages: attr, pyvips\n",
            "  Building wheel for attr (setup.py) ... \u001b[?25l\u001b[?25hdone\n",
            "  Created wheel for attr: filename=attr-0.3.1-py3-none-any.whl size=2457 sha256=3ea460191b1db44020553346da30065bcf57fdb8c373c6fd336f7ede86678822\n",
            "  Stored in directory: /root/.cache/pip/wheels/3b/5d/58/41fbe92f47031641008bd8559ee89e58bf0f123f9c18dea1cb\n",
            "  Building wheel for pyvips (setup.py) ... \u001b[?25l\u001b[?25hdone\n",
            "  Created wheel for pyvips: filename=pyvips-2.1.15-py2.py3-none-any.whl size=47219 sha256=512a829150e34aa7f4c32621f916bee66e25c97d41bca8e51bffb85564f4de4b\n",
            "  Stored in directory: /root/.cache/pip/wheels/58/56/33/e5defc8dfdc135f6fb198e5035bbca9bebb95776e28746a09f\n",
            "Successfully built attr pyvips\n",
            "Installing collected packages: dataclasses, torch, attr, torchvision, scikit-image, pyvips, python-bidi, coremltools, kraken\n",
            "  Attempting uninstall: torch\n",
            "    Found existing installation: torch 1.9.0+cu102\n",
            "    Uninstalling torch-1.9.0+cu102:\n",
            "      Successfully uninstalled torch-1.9.0+cu102\n",
            "  Attempting uninstall: torchvision\n",
            "    Found existing installation: torchvision 0.10.0+cu102\n",
            "    Uninstalling torchvision-0.10.0+cu102:\n",
            "      Successfully uninstalled torchvision-0.10.0+cu102\n",
            "  Attempting uninstall: scikit-image\n",
            "    Found existing installation: scikit-image 0.18.2\n",
            "    Uninstalling scikit-image-0.18.2:\n",
            "      Successfully uninstalled scikit-image-0.18.2\n",
            "\u001b[31mERROR: pip's dependency resolver does not currently take into account all the packages that are installed. This behaviour is the source of the following dependency conflicts.\n",
            "torchtext 0.10.0 requires torch==1.9.0, but you have torch 1.7.0 which is incompatible.\n",
            "albumentations 0.1.12 requires imgaug<0.2.7,>=0.2.5, but you have imgaug 0.2.9 which is incompatible.\u001b[0m\n",
            "Successfully installed attr-0.3.1 coremltools-4.1 dataclasses-0.6 kraken-3.0.4 python-bidi-0.4.2 pyvips-2.1.15 scikit-image-0.17.2 torch-1.7.0 torchvision-0.8.1\n",
            "Reading package lists... Done\n",
            "Building dependency tree       \n",
            "Reading state information... Done\n",
            "The following package was automatically installed and is no longer required:\n",
            "  libnvidia-common-460\n",
            "Use 'apt autoremove' to remove it.\n",
            "The following NEW packages will be installed:\n",
            "  poppler-utils\n",
            "0 upgraded, 1 newly installed, 0 to remove and 40 not upgraded.\n",
            "Need to get 154 kB of archives.\n",
            "After this operation, 613 kB of additional disk space will be used.\n",
            "Get:1 http://archive.ubuntu.com/ubuntu bionic-updates/main amd64 poppler-utils amd64 0.62.0-2ubuntu2.12 [154 kB]\n",
            "Fetched 154 kB in 1s (169 kB/s)\n",
            "Selecting previously unselected package poppler-utils.\n",
            "(Reading database ... 148486 files and directories currently installed.)\n",
            "Preparing to unpack .../poppler-utils_0.62.0-2ubuntu2.12_amd64.deb ...\n",
            "Unpacking poppler-utils (0.62.0-2ubuntu2.12) ...\n",
            "Setting up poppler-utils (0.62.0-2ubuntu2.12) ...\n",
            "Processing triggers for man-db (2.8.3-2ubuntu0.1) ...\n",
            "Reading package lists... Done\n",
            "Building dependency tree       \n",
            "Reading state information... Done\n",
            "The following package was automatically installed and is no longer required:\n",
            "  libnvidia-common-460\n",
            "Use 'apt autoremove' to remove it.\n",
            "The following additional packages will be installed:\n",
            "  tesseract-ocr-eng tesseract-ocr-osd\n",
            "The following NEW packages will be installed:\n",
            "  tesseract-ocr tesseract-ocr-eng tesseract-ocr-osd\n",
            "0 upgraded, 3 newly installed, 0 to remove and 40 not upgraded.\n",
            "Need to get 4,795 kB of archives.\n",
            "After this operation, 15.8 MB of additional disk space will be used.\n",
            "Get:1 http://archive.ubuntu.com/ubuntu bionic/universe amd64 tesseract-ocr-eng all 4.00~git24-0e00fe6-1.2 [1,588 kB]\n",
            "Get:2 http://archive.ubuntu.com/ubuntu bionic/universe amd64 tesseract-ocr-osd all 4.00~git24-0e00fe6-1.2 [2,989 kB]\n",
            "Get:3 http://archive.ubuntu.com/ubuntu bionic/universe amd64 tesseract-ocr amd64 4.00~git2288-10f4998a-2 [218 kB]\n",
            "Fetched 4,795 kB in 2s (2,724 kB/s)\n",
            "Selecting previously unselected package tesseract-ocr-eng.\n",
            "(Reading database ... 148514 files and directories currently installed.)\n",
            "Preparing to unpack .../tesseract-ocr-eng_4.00~git24-0e00fe6-1.2_all.deb ...\n",
            "Unpacking tesseract-ocr-eng (4.00~git24-0e00fe6-1.2) ...\n",
            "Selecting previously unselected package tesseract-ocr-osd.\n",
            "Preparing to unpack .../tesseract-ocr-osd_4.00~git24-0e00fe6-1.2_all.deb ...\n",
            "Unpacking tesseract-ocr-osd (4.00~git24-0e00fe6-1.2) ...\n",
            "Selecting previously unselected package tesseract-ocr.\n",
            "Preparing to unpack .../tesseract-ocr_4.00~git2288-10f4998a-2_amd64.deb ...\n",
            "Unpacking tesseract-ocr (4.00~git2288-10f4998a-2) ...\n",
            "Setting up tesseract-ocr-osd (4.00~git24-0e00fe6-1.2) ...\n",
            "Setting up tesseract-ocr-eng (4.00~git24-0e00fe6-1.2) ...\n",
            "Setting up tesseract-ocr (4.00~git2288-10f4998a-2) ...\n",
            "Processing triggers for man-db (2.8.3-2ubuntu0.1) ...\n",
            "Reading package lists... Done\n",
            "Building dependency tree       \n",
            "Reading state information... Done\n",
            "The following package was automatically installed and is no longer required:\n",
            "  libnvidia-common-460\n",
            "Use 'apt autoremove' to remove it.\n",
            "The following additional packages will be installed:\n",
            "  libleptonica-dev\n",
            "The following NEW packages will be installed:\n",
            "  libleptonica-dev libtesseract-dev\n",
            "0 upgraded, 2 newly installed, 0 to remove and 40 not upgraded.\n",
            "Need to get 2,755 kB of archives.\n",
            "After this operation, 13.8 MB of additional disk space will be used.\n",
            "Get:1 http://archive.ubuntu.com/ubuntu bionic/universe amd64 libleptonica-dev amd64 1.75.3-3 [1,308 kB]\n",
            "Get:2 http://archive.ubuntu.com/ubuntu bionic/universe amd64 libtesseract-dev amd64 4.00~git2288-10f4998a-2 [1,447 kB]\n",
            "Fetched 2,755 kB in 1s (1,849 kB/s)\n",
            "Selecting previously unselected package libleptonica-dev.\n",
            "(Reading database ... 148561 files and directories currently installed.)\n",
            "Preparing to unpack .../libleptonica-dev_1.75.3-3_amd64.deb ...\n",
            "Unpacking libleptonica-dev (1.75.3-3) ...\n",
            "Selecting previously unselected package libtesseract-dev.\n",
            "Preparing to unpack .../libtesseract-dev_4.00~git2288-10f4998a-2_amd64.deb ...\n",
            "Unpacking libtesseract-dev (4.00~git2288-10f4998a-2) ...\n",
            "Setting up libleptonica-dev (1.75.3-3) ...\n",
            "Setting up libtesseract-dev (4.00~git2288-10f4998a-2) ...\n",
            "Collecting pdf2image\n",
            "  Downloading pdf2image-1.16.0-py3-none-any.whl (10 kB)\n",
            "Requirement already satisfied: pillow in /usr/local/lib/python3.7/dist-packages (from pdf2image) (7.1.2)\n",
            "Installing collected packages: pdf2image\n",
            "Successfully installed pdf2image-1.16.0\n",
            "Collecting pytesseract\n",
            "  Downloading pytesseract-0.3.8.tar.gz (14 kB)\n",
            "Requirement already satisfied: Pillow in /usr/local/lib/python3.7/dist-packages (from pytesseract) (7.1.2)\n",
            "Building wheels for collected packages: pytesseract\n",
            "  Building wheel for pytesseract (setup.py) ... \u001b[?25l\u001b[?25hdone\n",
            "  Created wheel for pytesseract: filename=pytesseract-0.3.8-py2.py3-none-any.whl size=14072 sha256=cb2339a842280f337e6e57e41785fd45f09279bbaff1a1dd5545ebd60ae37cb5\n",
            "  Stored in directory: /root/.cache/pip/wheels/a4/89/b9/3f11250225d0f90e5454fcc30fd1b7208db226850715aa9ace\n",
            "Successfully built pytesseract\n",
            "Installing collected packages: pytesseract\n",
            "Successfully installed pytesseract-0.3.8\n",
            "Requirement already satisfied: Pillow in /usr/local/lib/python3.7/dist-packages (7.1.2)\n",
            "Requirement already satisfied: pytesseract in /usr/local/lib/python3.7/dist-packages (0.3.8)\n",
            "Requirement already satisfied: Pillow in /usr/local/lib/python3.7/dist-packages (from pytesseract) (7.1.2)\n",
            "Requirement already satisfied: opencv-python in /usr/local/lib/python3.7/dist-packages (4.1.2.30)\n",
            "Requirement already satisfied: numpy>=1.14.5 in /usr/local/lib/python3.7/dist-packages (from opencv-python) (1.18.5)\n"
          ],
          "name": "stdout"
        }
      ]
    },
    {
      "cell_type": "code",
      "metadata": {
        "colab": {
          "base_uri": "https://localhost:8080/"
        },
        "id": "C-mlYLVqJaE5",
        "outputId": "018b2cee-2967-4289-e249-6584a584a053"
      },
      "source": [
        "!pip install  rapidfuzz\n"
      ],
      "execution_count": 139,
      "outputs": [
        {
          "output_type": "stream",
          "text": [
            "Collecting rapidfuzz\n",
            "  Downloading rapidfuzz-1.5.0-cp37-cp37m-manylinux2010_x86_64.whl (1.4 MB)\n",
            "\u001b[?25l\r\u001b[K     |▎                               | 10 kB 25.2 MB/s eta 0:00:01\r\u001b[K     |▌                               | 20 kB 26.3 MB/s eta 0:00:01\r\u001b[K     |▊                               | 30 kB 19.4 MB/s eta 0:00:01\r\u001b[K     |█                               | 40 kB 15.7 MB/s eta 0:00:01\r\u001b[K     |█▏                              | 51 kB 8.1 MB/s eta 0:00:01\r\u001b[K     |█▍                              | 61 kB 7.8 MB/s eta 0:00:01\r\u001b[K     |█▋                              | 71 kB 8.3 MB/s eta 0:00:01\r\u001b[K     |█▉                              | 81 kB 9.2 MB/s eta 0:00:01\r\u001b[K     |██                              | 92 kB 9.5 MB/s eta 0:00:01\r\u001b[K     |██▎                             | 102 kB 7.8 MB/s eta 0:00:01\r\u001b[K     |██▌                             | 112 kB 7.8 MB/s eta 0:00:01\r\u001b[K     |██▊                             | 122 kB 7.8 MB/s eta 0:00:01\r\u001b[K     |███                             | 133 kB 7.8 MB/s eta 0:00:01\r\u001b[K     |███▏                            | 143 kB 7.8 MB/s eta 0:00:01\r\u001b[K     |███▌                            | 153 kB 7.8 MB/s eta 0:00:01\r\u001b[K     |███▊                            | 163 kB 7.8 MB/s eta 0:00:01\r\u001b[K     |████                            | 174 kB 7.8 MB/s eta 0:00:01\r\u001b[K     |████▏                           | 184 kB 7.8 MB/s eta 0:00:01\r\u001b[K     |████▍                           | 194 kB 7.8 MB/s eta 0:00:01\r\u001b[K     |████▋                           | 204 kB 7.8 MB/s eta 0:00:01\r\u001b[K     |████▉                           | 215 kB 7.8 MB/s eta 0:00:01\r\u001b[K     |█████                           | 225 kB 7.8 MB/s eta 0:00:01\r\u001b[K     |█████▎                          | 235 kB 7.8 MB/s eta 0:00:01\r\u001b[K     |█████▌                          | 245 kB 7.8 MB/s eta 0:00:01\r\u001b[K     |█████▊                          | 256 kB 7.8 MB/s eta 0:00:01\r\u001b[K     |██████                          | 266 kB 7.8 MB/s eta 0:00:01\r\u001b[K     |██████▏                         | 276 kB 7.8 MB/s eta 0:00:01\r\u001b[K     |██████▍                         | 286 kB 7.8 MB/s eta 0:00:01\r\u001b[K     |██████▊                         | 296 kB 7.8 MB/s eta 0:00:01\r\u001b[K     |███████                         | 307 kB 7.8 MB/s eta 0:00:01\r\u001b[K     |███████▏                        | 317 kB 7.8 MB/s eta 0:00:01\r\u001b[K     |███████▍                        | 327 kB 7.8 MB/s eta 0:00:01\r\u001b[K     |███████▋                        | 337 kB 7.8 MB/s eta 0:00:01\r\u001b[K     |███████▉                        | 348 kB 7.8 MB/s eta 0:00:01\r\u001b[K     |████████                        | 358 kB 7.8 MB/s eta 0:00:01\r\u001b[K     |████████▎                       | 368 kB 7.8 MB/s eta 0:00:01\r\u001b[K     |████████▌                       | 378 kB 7.8 MB/s eta 0:00:01\r\u001b[K     |████████▊                       | 389 kB 7.8 MB/s eta 0:00:01\r\u001b[K     |█████████                       | 399 kB 7.8 MB/s eta 0:00:01\r\u001b[K     |█████████▏                      | 409 kB 7.8 MB/s eta 0:00:01\r\u001b[K     |█████████▍                      | 419 kB 7.8 MB/s eta 0:00:01\r\u001b[K     |█████████▋                      | 430 kB 7.8 MB/s eta 0:00:01\r\u001b[K     |██████████                      | 440 kB 7.8 MB/s eta 0:00:01\r\u001b[K     |██████████▏                     | 450 kB 7.8 MB/s eta 0:00:01\r\u001b[K     |██████████▍                     | 460 kB 7.8 MB/s eta 0:00:01\r\u001b[K     |██████████▋                     | 471 kB 7.8 MB/s eta 0:00:01\r\u001b[K     |██████████▉                     | 481 kB 7.8 MB/s eta 0:00:01\r\u001b[K     |███████████                     | 491 kB 7.8 MB/s eta 0:00:01\r\u001b[K     |███████████▎                    | 501 kB 7.8 MB/s eta 0:00:01\r\u001b[K     |███████████▌                    | 512 kB 7.8 MB/s eta 0:00:01\r\u001b[K     |███████████▊                    | 522 kB 7.8 MB/s eta 0:00:01\r\u001b[K     |████████████                    | 532 kB 7.8 MB/s eta 0:00:01\r\u001b[K     |████████████▏                   | 542 kB 7.8 MB/s eta 0:00:01\r\u001b[K     |████████████▍                   | 552 kB 7.8 MB/s eta 0:00:01\r\u001b[K     |████████████▋                   | 563 kB 7.8 MB/s eta 0:00:01\r\u001b[K     |████████████▉                   | 573 kB 7.8 MB/s eta 0:00:01\r\u001b[K     |█████████████▏                  | 583 kB 7.8 MB/s eta 0:00:01\r\u001b[K     |█████████████▍                  | 593 kB 7.8 MB/s eta 0:00:01\r\u001b[K     |█████████████▋                  | 604 kB 7.8 MB/s eta 0:00:01\r\u001b[K     |█████████████▉                  | 614 kB 7.8 MB/s eta 0:00:01\r\u001b[K     |██████████████                  | 624 kB 7.8 MB/s eta 0:00:01\r\u001b[K     |██████████████▎                 | 634 kB 7.8 MB/s eta 0:00:01\r\u001b[K     |██████████████▌                 | 645 kB 7.8 MB/s eta 0:00:01\r\u001b[K     |██████████████▊                 | 655 kB 7.8 MB/s eta 0:00:01\r\u001b[K     |███████████████                 | 665 kB 7.8 MB/s eta 0:00:01\r\u001b[K     |███████████████▏                | 675 kB 7.8 MB/s eta 0:00:01\r\u001b[K     |███████████████▍                | 686 kB 7.8 MB/s eta 0:00:01\r\u001b[K     |███████████████▋                | 696 kB 7.8 MB/s eta 0:00:01\r\u001b[K     |███████████████▉                | 706 kB 7.8 MB/s eta 0:00:01\r\u001b[K     |████████████████                | 716 kB 7.8 MB/s eta 0:00:01\r\u001b[K     |████████████████▎               | 727 kB 7.8 MB/s eta 0:00:01\r\u001b[K     |████████████████▋               | 737 kB 7.8 MB/s eta 0:00:01\r\u001b[K     |████████████████▉               | 747 kB 7.8 MB/s eta 0:00:01\r\u001b[K     |█████████████████               | 757 kB 7.8 MB/s eta 0:00:01\r\u001b[K     |█████████████████▎              | 768 kB 7.8 MB/s eta 0:00:01\r\u001b[K     |█████████████████▌              | 778 kB 7.8 MB/s eta 0:00:01\r\u001b[K     |█████████████████▊              | 788 kB 7.8 MB/s eta 0:00:01\r\u001b[K     |██████████████████              | 798 kB 7.8 MB/s eta 0:00:01\r\u001b[K     |██████████████████▏             | 808 kB 7.8 MB/s eta 0:00:01\r\u001b[K     |██████████████████▍             | 819 kB 7.8 MB/s eta 0:00:01\r\u001b[K     |██████████████████▋             | 829 kB 7.8 MB/s eta 0:00:01\r\u001b[K     |██████████████████▉             | 839 kB 7.8 MB/s eta 0:00:01\r\u001b[K     |███████████████████             | 849 kB 7.8 MB/s eta 0:00:01\r\u001b[K     |███████████████████▎            | 860 kB 7.8 MB/s eta 0:00:01\r\u001b[K     |███████████████████▌            | 870 kB 7.8 MB/s eta 0:00:01\r\u001b[K     |███████████████████▉            | 880 kB 7.8 MB/s eta 0:00:01\r\u001b[K     |████████████████████            | 890 kB 7.8 MB/s eta 0:00:01\r\u001b[K     |████████████████████▎           | 901 kB 7.8 MB/s eta 0:00:01\r\u001b[K     |████████████████████▌           | 911 kB 7.8 MB/s eta 0:00:01\r\u001b[K     |████████████████████▊           | 921 kB 7.8 MB/s eta 0:00:01\r\u001b[K     |█████████████████████           | 931 kB 7.8 MB/s eta 0:00:01\r\u001b[K     |█████████████████████▏          | 942 kB 7.8 MB/s eta 0:00:01\r\u001b[K     |█████████████████████▍          | 952 kB 7.8 MB/s eta 0:00:01\r\u001b[K     |█████████████████████▋          | 962 kB 7.8 MB/s eta 0:00:01\r\u001b[K     |█████████████████████▉          | 972 kB 7.8 MB/s eta 0:00:01\r\u001b[K     |██████████████████████          | 983 kB 7.8 MB/s eta 0:00:01\r\u001b[K     |██████████████████████▎         | 993 kB 7.8 MB/s eta 0:00:01\r\u001b[K     |██████████████████████▌         | 1.0 MB 7.8 MB/s eta 0:00:01\r\u001b[K     |██████████████████████▊         | 1.0 MB 7.8 MB/s eta 0:00:01\r\u001b[K     |███████████████████████         | 1.0 MB 7.8 MB/s eta 0:00:01\r\u001b[K     |███████████████████████▎        | 1.0 MB 7.8 MB/s eta 0:00:01\r\u001b[K     |███████████████████████▌        | 1.0 MB 7.8 MB/s eta 0:00:01\r\u001b[K     |███████████████████████▊        | 1.1 MB 7.8 MB/s eta 0:00:01\r\u001b[K     |████████████████████████        | 1.1 MB 7.8 MB/s eta 0:00:01\r\u001b[K     |████████████████████████▏       | 1.1 MB 7.8 MB/s eta 0:00:01\r\u001b[K     |████████████████████████▍       | 1.1 MB 7.8 MB/s eta 0:00:01\r\u001b[K     |████████████████████████▋       | 1.1 MB 7.8 MB/s eta 0:00:01\r\u001b[K     |████████████████████████▉       | 1.1 MB 7.8 MB/s eta 0:00:01\r\u001b[K     |█████████████████████████       | 1.1 MB 7.8 MB/s eta 0:00:01\r\u001b[K     |█████████████████████████▎      | 1.1 MB 7.8 MB/s eta 0:00:01\r\u001b[K     |█████████████████████████▌      | 1.1 MB 7.8 MB/s eta 0:00:01\r\u001b[K     |█████████████████████████▊      | 1.1 MB 7.8 MB/s eta 0:00:01\r\u001b[K     |██████████████████████████      | 1.2 MB 7.8 MB/s eta 0:00:01\r\u001b[K     |██████████████████████████▎     | 1.2 MB 7.8 MB/s eta 0:00:01\r\u001b[K     |██████████████████████████▌     | 1.2 MB 7.8 MB/s eta 0:00:01\r\u001b[K     |██████████████████████████▊     | 1.2 MB 7.8 MB/s eta 0:00:01\r\u001b[K     |███████████████████████████     | 1.2 MB 7.8 MB/s eta 0:00:01\r\u001b[K     |███████████████████████████▏    | 1.2 MB 7.8 MB/s eta 0:00:01\r\u001b[K     |███████████████████████████▍    | 1.2 MB 7.8 MB/s eta 0:00:01\r\u001b[K     |███████████████████████████▋    | 1.2 MB 7.8 MB/s eta 0:00:01\r\u001b[K     |███████████████████████████▉    | 1.2 MB 7.8 MB/s eta 0:00:01\r\u001b[K     |████████████████████████████    | 1.2 MB 7.8 MB/s eta 0:00:01\r\u001b[K     |████████████████████████████▎   | 1.3 MB 7.8 MB/s eta 0:00:01\r\u001b[K     |████████████████████████████▌   | 1.3 MB 7.8 MB/s eta 0:00:01\r\u001b[K     |████████████████████████████▊   | 1.3 MB 7.8 MB/s eta 0:00:01\r\u001b[K     |█████████████████████████████   | 1.3 MB 7.8 MB/s eta 0:00:01\r\u001b[K     |█████████████████████████████▏  | 1.3 MB 7.8 MB/s eta 0:00:01\r\u001b[K     |█████████████████████████████▌  | 1.3 MB 7.8 MB/s eta 0:00:01\r\u001b[K     |█████████████████████████████▊  | 1.3 MB 7.8 MB/s eta 0:00:01\r\u001b[K     |██████████████████████████████  | 1.3 MB 7.8 MB/s eta 0:00:01\r\u001b[K     |██████████████████████████████▏ | 1.3 MB 7.8 MB/s eta 0:00:01\r\u001b[K     |██████████████████████████████▍ | 1.4 MB 7.8 MB/s eta 0:00:01\r\u001b[K     |██████████████████████████████▋ | 1.4 MB 7.8 MB/s eta 0:00:01\r\u001b[K     |██████████████████████████████▉ | 1.4 MB 7.8 MB/s eta 0:00:01\r\u001b[K     |███████████████████████████████ | 1.4 MB 7.8 MB/s eta 0:00:01\r\u001b[K     |███████████████████████████████▎| 1.4 MB 7.8 MB/s eta 0:00:01\r\u001b[K     |███████████████████████████████▌| 1.4 MB 7.8 MB/s eta 0:00:01\r\u001b[K     |███████████████████████████████▊| 1.4 MB 7.8 MB/s eta 0:00:01\r\u001b[K     |████████████████████████████████| 1.4 MB 7.8 MB/s eta 0:00:01\r\u001b[K     |████████████████████████████████| 1.4 MB 7.8 MB/s \n",
            "\u001b[?25hInstalling collected packages: rapidfuzz\n",
            "Successfully installed rapidfuzz-1.5.0\n"
          ],
          "name": "stdout"
        }
      ]
    },
    {
      "cell_type": "code",
      "metadata": {
        "colab": {
          "base_uri": "https://localhost:8080/"
        },
        "id": "zC_ef-UPytrq",
        "outputId": "3085a7f0-589c-4a9c-9261-a5fa6afdaff1"
      },
      "source": [
        "pip install python-Levenshtein"
      ],
      "execution_count": 100,
      "outputs": [
        {
          "output_type": "stream",
          "text": [
            "Collecting python-Levenshtein\n",
            "  Downloading python-Levenshtein-0.12.2.tar.gz (50 kB)\n",
            "\u001b[?25l\r\u001b[K     |██████▌                         | 10 kB 27.2 MB/s eta 0:00:01\r\u001b[K     |█████████████                   | 20 kB 30.3 MB/s eta 0:00:01\r\u001b[K     |███████████████████▌            | 30 kB 20.3 MB/s eta 0:00:01\r\u001b[K     |██████████████████████████      | 40 kB 17.0 MB/s eta 0:00:01\r\u001b[K     |████████████████████████████████| 50 kB 4.0 MB/s \n",
            "\u001b[?25hRequirement already satisfied: setuptools in /usr/local/lib/python3.7/dist-packages (from python-Levenshtein) (57.4.0)\n",
            "Building wheels for collected packages: python-Levenshtein\n",
            "  Building wheel for python-Levenshtein (setup.py) ... \u001b[?25l\u001b[?25hdone\n",
            "  Created wheel for python-Levenshtein: filename=python_Levenshtein-0.12.2-cp37-cp37m-linux_x86_64.whl size=149862 sha256=dcb6cee00e50513cc42e501668f1558e6582e02f8537ff6e86181dff82fc1035\n",
            "  Stored in directory: /root/.cache/pip/wheels/05/5f/ca/7c4367734892581bb5ff896f15027a932c551080b2abd3e00d\n",
            "Successfully built python-Levenshtein\n",
            "Installing collected packages: python-Levenshtein\n",
            "Successfully installed python-Levenshtein-0.12.2\n"
          ],
          "name": "stdout"
        }
      ]
    },
    {
      "cell_type": "code",
      "metadata": {
        "colab": {
          "base_uri": "https://localhost:8080/"
        },
        "id": "yLLyOvzWNABd",
        "outputId": "8d5df361-1a02-4145-cc2b-9896da2be874"
      },
      "source": [
        "from google.colab import drive\n",
        "drive.mount('/content/drive')"
      ],
      "execution_count": 3,
      "outputs": [
        {
          "output_type": "stream",
          "text": [
            "Drive already mounted at /content/drive; to attempt to forcibly remount, call drive.mount(\"/content/drive\", force_remount=True).\n"
          ],
          "name": "stdout"
        }
      ]
    },
    {
      "cell_type": "code",
      "metadata": {
        "id": "OMeKGAO4PTNy"
      },
      "source": [
        "import os"
      ],
      "execution_count": 2,
      "outputs": []
    },
    {
      "cell_type": "code",
      "metadata": {
        "id": "XBmewT55TNv0"
      },
      "source": [
        "! rm -rf \"/content/Hackathon-RIIAA-2021\""
      ],
      "execution_count": 5,
      "outputs": []
    },
    {
      "cell_type": "code",
      "metadata": {
        "colab": {
          "base_uri": "https://localhost:8080/"
        },
        "id": "ikcOMUL9Jkf6",
        "outputId": "98d15f0b-32df-4215-db5f-859900c00aa2"
      },
      "source": [
        "!pip install datefinder"
      ],
      "execution_count": 140,
      "outputs": [
        {
          "output_type": "stream",
          "text": [
            "Collecting datefinder\n",
            "  Downloading datefinder-0.7.1-py2.py3-none-any.whl (10 kB)\n",
            "Requirement already satisfied: pytz in /usr/local/lib/python3.7/dist-packages (from datefinder) (2018.9)\n",
            "Requirement already satisfied: python-dateutil>=2.4.2 in /usr/local/lib/python3.7/dist-packages (from datefinder) (2.8.2)\n",
            "Requirement already satisfied: regex>=2017.02.08 in /usr/local/lib/python3.7/dist-packages (from datefinder) (2019.12.20)\n",
            "Requirement already satisfied: six>=1.5 in /usr/local/lib/python3.7/dist-packages (from python-dateutil>=2.4.2->datefinder) (1.15.0)\n",
            "Installing collected packages: datefinder\n",
            "Successfully installed datefinder-0.7.1\n"
          ],
          "name": "stdout"
        }
      ]
    },
    {
      "cell_type": "code",
      "metadata": {
        "colab": {
          "base_uri": "https://localhost:8080/"
        },
        "id": "tJcQv05VQT0K",
        "outputId": "d3630b65-7005-4a4d-e098-b78b9ac64f89"
      },
      "source": [
        "! git clone https://github.com/andrea-liliana/Hackathon-RIIAA-2021.git"
      ],
      "execution_count": 151,
      "outputs": [
        {
          "output_type": "stream",
          "text": [
            "Cloning into 'Hackathon-RIIAA-2021'...\n",
            "remote: Enumerating objects: 133, done.\u001b[K\n",
            "remote: Counting objects: 100% (133/133), done.\u001b[K\n",
            "remote: Compressing objects: 100% (124/124), done.\u001b[K\n",
            "remote: Total 133 (delta 64), reused 11 (delta 2), pack-reused 0\u001b[K\n",
            "Receiving objects: 100% (133/133), 31.50 KiB | 556.00 KiB/s, done.\n",
            "Resolving deltas: 100% (64/64), done.\n"
          ],
          "name": "stdout"
        }
      ]
    },
    {
      "cell_type": "code",
      "metadata": {
        "colab": {
          "base_uri": "https://localhost:8080/"
        },
        "id": "DkTWSd-lVjBb",
        "outputId": "ada2cff1-44ae-41db-e481-7dcce3907ce2"
      },
      "source": [
        "! pwd"
      ],
      "execution_count": 7,
      "outputs": [
        {
          "output_type": "stream",
          "text": [
            "drive  Hackathon-RIIAA-2021  Hackathon-RIIAA-2021-main.zip  sample_data\n"
          ],
          "name": "stdout"
        }
      ]
    },
    {
      "cell_type": "code",
      "metadata": {
        "colab": {
          "base_uri": "https://localhost:8080/"
        },
        "id": "OetAqtNa9gDd",
        "outputId": "f93ef471-c298-4735-d6f4-01c20d081414"
      },
      "source": [
        "% cd /content/Hackathon-RIIAA-2021"
      ],
      "execution_count": 10,
      "outputs": [
        {
          "output_type": "stream",
          "text": [
            "/content/Hackathon-RIIAA-2021\n"
          ],
          "name": "stdout"
        }
      ]
    },
    {
      "cell_type": "code",
      "metadata": {
        "colab": {
          "base_uri": "https://localhost:8080/"
        },
        "id": "7b7HLOpIQm1E",
        "outputId": "e8b404be-dab2-49a3-b592-0e7978110788"
      },
      "source": [
        "! git pull "
      ],
      "execution_count": 44,
      "outputs": [
        {
          "output_type": "stream",
          "text": [
            "shell-init: error retrieving current directory: getcwd: cannot access parent directories: No such file or directory\n",
            "fatal: Unable to read current working directory: No such file or directory\n"
          ],
          "name": "stdout"
        }
      ]
    },
    {
      "cell_type": "code",
      "metadata": {
        "colab": {
          "base_uri": "https://localhost:8080/"
        },
        "id": "Ijj3uy-v-p8Q",
        "outputId": "ca3054ab-004d-4243-f324-1210291e91d8"
      },
      "source": [
        "! git status"
      ],
      "execution_count": 37,
      "outputs": [
        {
          "output_type": "stream",
          "text": [
            "On branch main\n",
            "Your branch is up to date with 'origin/main'.\n",
            "\n",
            "nothing to commit, working tree clean\n"
          ],
          "name": "stdout"
        }
      ]
    },
    {
      "cell_type": "code",
      "metadata": {
        "colab": {
          "base_uri": "https://localhost:8080/",
          "height": 35
        },
        "id": "hEAfZ-_sBBPT",
        "outputId": "20a70bbd-7e6c-4c07-818b-b809f2d0e7fb"
      },
      "source": [
        "% pwd"
      ],
      "execution_count": 7,
      "outputs": [
        {
          "output_type": "execute_result",
          "data": {
            "application/vnd.google.colaboratory.intrinsic+json": {
              "type": "string"
            },
            "text/plain": [
              "'/content/Hackathon-RIIAA-2021'"
            ]
          },
          "metadata": {},
          "execution_count": 7
        }
      ]
    },
    {
      "cell_type": "code",
      "metadata": {
        "id": "vBoXMWXfBIHj"
      },
      "source": [
        "from modules.preproceso_imagen import *\n",
        "from modules.extraccion_texto import *\n",
        "from modules.fuzzy_search import *\n",
        "from pathlib import Path"
      ],
      "execution_count": 158,
      "outputs": []
    },
    {
      "cell_type": "code",
      "metadata": {
        "id": "6necXLWiBoXt"
      },
      "source": [
        "in_dir = '/content/drive/My Drive/Hackaton/Hackathon RIIAA 2021 (CNB)/Datos - Hackathon JusticIA/Fichas_manual/'"
      ],
      "execution_count": 13,
      "outputs": []
    },
    {
      "cell_type": "code",
      "metadata": {
        "id": "KyLAuvRFDfVq"
      },
      "source": [
        "#nombre de carpetas\n",
        "\n",
        "#carpeta donde guardamos imagenes_bloques\n",
        "imagenes_segmentadas = '/content/drive/My Drive/Hackaton/Hackathon RIIAA 2021 (CNB)/Implementacion/ImagenesSegmentadas'\n",
        "#carpeta donde guardamos primer preproceso\n",
        "imagenes_Preproceso1 = '/content/drive/My Drive/Hackaton/Hackathon RIIAA 2021 (CNB)/Implementacion/Preproceso1'\n",
        "#carpeta donde guardamos segundo preproceso\n",
        "imagenes_Preproceso2 = '/content/drive/My Drive/Hackaton/Hackathon RIIAA 2021 (CNB)/Implementacion/Preproceso2'\n",
        "#carpeta donde guardamos los archivos de texto\n",
        "archivos_texto = '/content/drive/My Drive/Hackaton/Hackathon RIIAA 2021 (CNB)/Implementacion/TextFiles'"
      ],
      "execution_count": 14,
      "outputs": []
    },
    {
      "cell_type": "code",
      "metadata": {
        "id": "MePyhhEgEvBK"
      },
      "source": [
        "Path(imagenes_segmentadas).mkdir(parents=True, exist_ok=True)\n",
        "Path(imagenes_Preproceso1).mkdir(parents=True, exist_ok=True)\n",
        "Path(imagenes_Preproceso2).mkdir(parents=True, exist_ok=True)\n",
        "Path(archivos_texto).mkdir(parents=True, exist_ok=True)"
      ],
      "execution_count": 124,
      "outputs": []
    },
    {
      "cell_type": "code",
      "metadata": {
        "id": "ebHxrZE-GHuS"
      },
      "source": [
        "import random \n",
        "from PIL import Image, ImageFilter\n",
        "from PIL import ImageEnhance\n",
        "from Levenshtein import distance\n",
        "import pandas as pd\n",
        "def evalua(main_root,output_dir,n_samples=10,psm=6,random_state=0,):\n",
        "  \n",
        "  df_transcripciones=pd.read_csv('/content/drive/My Drive/Hackaton/Hackathon RIIAA 2021 (CNB)/Datos - Hackathon JusticIA/JusticIA_DatosTranscripciones.csv')\n",
        "  df_transcripciones.index=df_transcripciones.NombreArchivo\n",
        "  #carpeta donde guardamos imagenes_bloques\n",
        "  imagenes_segmentadas = '/content/drive/My Drive/Hackaton/Hackathon RIIAA 2021 (CNB)/Implementacion/ImagenesSegmentadas'\n",
        "  #carpeta donde guardamos primer preproceso\n",
        "  imagenes_Preproceso1 = '/content/drive/My Drive/Hackaton/Hackathon RIIAA 2021 (CNB)/Implementacion/Preproceso1'\n",
        "  #carpeta donde guardamos segundo preproceso\n",
        "  imagenes_Preproceso2 = '/content/drive/My Drive/Hackaton/Hackathon RIIAA 2021 (CNB)/Implementacion/Preproceso2'\n",
        "  #carpeta donde guardamos los archivos de texto\n",
        "  archivos_texto = '/content/drive/My Drive/Hackaton/Hackathon RIIAA 2021 (CNB)/Implementacion/TextFiles'\n",
        "\n",
        "\n",
        "\n",
        "  files_0=os.listdir(main_root)\n",
        "  print(len(files_0))\n",
        "  files=[]\n",
        "  for file in files_0:\n",
        "    if file[-4:]=='.JPG':\n",
        "      files.append(file)\n",
        "  print(len(files))\n",
        "  random.seed(random_state)\n",
        "  sub_set=random.choices(files,k=n_samples)\n",
        "  resultado={}\n",
        "  distances=[]\n",
        "  for i,file in enumerate(sub_set):\n",
        "    name=str(Path(main_root)/file)\n",
        "    output_path=segmentar_orientar(img_path=name,output_dir=imagenes_segmentadas)\n",
        "    output_path=guardar_imagen(output_path, filtro=pillow_image_detail, filtro_name=\"\", output_dir=imagenes_Preproceso1, pillow=True)\n",
        "    output_path=guardar_imagen(output_path, filtro=noise_removal, filtro_name=\"\", output_dir=imagenes_Preproceso2, pillow=False)\n",
        "    texto=guardar_texto(output_path,archivos_texto)\n",
        "    key=Path(name).name\n",
        "    resultado[key]=texto\n",
        "    texto_real=df_transcripciones.loc[key]['Texto']\n",
        "    distances.append(distance(texto,texto_real)/len(texto_real))\n",
        "    print(i)\n",
        "  df=pd.DataFrame(resultado,index=['texto']).T\n",
        "  df.to_csv(output_dir)\n",
        "  return np.mean(distances)"
      ],
      "execution_count": 125,
      "outputs": []
    },
    {
      "cell_type": "code",
      "metadata": {
        "colab": {
          "base_uri": "https://localhost:8080/"
        },
        "id": "PMfjhU4kKShA",
        "outputId": "0e65c472-9e0c-4d4f-c4c5-183cbd7c137f"
      },
      "source": [
        "in_dir='/content/drive/MyDrive/Hackaton/Hackathon RIIAA 2021 (CNB)/Datos - Hackathon JusticIA/Evaluacion/Reto2/'\n",
        "evalua(in_dir,'/content/drive/My Drive/Hackaton/Hackathon RIIAA 2021 (CNB)/Implementacion/df_valid.csv',n_samples=20)"
      ],
      "execution_count": 126,
      "outputs": [
        {
          "output_type": "stream",
          "text": [
            "10\n",
            "10\n",
            "0\n",
            "1\n",
            "2\n",
            "3\n",
            "4\n",
            "5\n"
          ],
          "name": "stdout"
        },
        {
          "output_type": "stream",
          "text": [
            "Boundary tracing failed in baseline elongation: index 1 is out of bounds for axis 0 with size 1\n",
            "Polygonizer failed on line 0: all the input arrays must have same number of dimensions, but the array at index 0 has 2 dimension(s) and the array at index 3 has 1 dimension(s)\n",
            "Polygonizer failed on line 0: all the input arrays must have same number of dimensions, but the array at index 0 has 1 dimension(s) and the array at index 1 has 2 dimension(s)\n"
          ],
          "name": "stderr"
        },
        {
          "output_type": "stream",
          "text": [
            "6\n",
            "7\n",
            "8\n",
            "9\n"
          ],
          "name": "stdout"
        },
        {
          "output_type": "execute_result",
          "data": {
            "text/plain": [
              "0.5575890414492999"
            ]
          },
          "metadata": {},
          "execution_count": 126
        }
      ]
    },
    {
      "cell_type": "code",
      "metadata": {
        "id": "VF5No_SHKfL7"
      },
      "source": [
        "df_r=pd.read_csv('/content/drive/My Drive/Hackaton/Hackathon RIIAA 2021 (CNB)/Implementacion/df_prueba.csv')\n",
        "df_r.columns=['NombreArchivo','Texto']\n",
        "transcripciones=df_r\n",
        "transcripciones = df_r\n",
        "organizaciones = pd.read_csv(\"/content/drive/MyDrive/Hackathon RIIAA 2021 (CNB)/Datos - Hackathon JusticIA/organizations.csv\", error_bad_lines=False)\n",
        "organizaciones.columns = [\"Organización\"]\n",
        "lugares = pd.read_csv(\"/content/drive/MyDrive/Hackathon RIIAA 2021 (CNB)/Datos - Hackathon JusticIA/places.csv\", error_bad_lines=False).drop([\"PLACES \"],axis=1)\n",
        "lugares[\"Lugar\"] = lugares.index\n",
        "lugares = lugares.reset_index(drop=True)\n",
        "servidores = pd.read_csv(\"/content/drive/MyDrive/Hackathon RIIAA 2021 (CNB)/Datos - Hackathon JusticIA/civilservants.csv\", error_bad_lines=False)\n",
        "servidores.columns = [\"Servidor Público\"]\n",
        "enjuiciados =  pd.read_csv(\"/content/drive/MyDrive/Hackathon RIIAA 2021 (CNB)/Datos - Hackathon JusticIA/prosecuted.csv\", error_bad_lines=False)\n",
        "enjuiciados.columns = [\"Enjuiciados\"]\n",
        "listas = [organizaciones,lugares,servidores,enjuiciados]\n",
        "listas = [organizaciones.loc[0:100],lugares.loc[0:100],servidores.loc[0:100],enjuiciados.loc[0:100]]\n",
        "df_transcripciones = df_r\n",
        "df_salida = obtener_matchs(df_transcripciones, listas ).sort_values(\"NombreArchivo\").append(obtener_df_expedientes_fechas(df_transcripciones)).sort_values('NombreArchivo').reset_index(drop=True)\n",
        "df_salida.to_csv('')\n"
      ],
      "execution_count": 143,
      "outputs": []
    }
  ]
}